{
 "cells": [
  {
   "cell_type": "markdown",
   "id": "785a7142",
   "metadata": {},
   "source": [
    "# Artificial Neural Network\n",
    "### By Nolan DeSchryver & John Robert Hernandez"
   ]
  },
  {
   "cell_type": "markdown",
   "id": "f32f2133",
   "metadata": {},
   "source": [
    "### Defining an Optimal Team\n",
    "1. For any team of five players, if the combination of players consists of a duplicate player, it is automatically suboptimal.\n",
    "2. When a team has a player with 0-1 above average stats, it is deemed suboptimal.\n",
    "3. If a shared best stat is prominent among more than 3 of the 5 players, it is deemed suboptimal.\n",
    "\n",
    "### Reasoning Behind Optimal Team Rules\n",
    "1. It is physically impossible for an actual team to be composed of duplicate players.\n",
    "2. Teams with average to below average players will statistically be at a disadvantage to teams with diverse players who excel at different roles (understood through their stats).\n",
    "3. Teams with players who are too similar, but not the exact same player, will likely be at a disadvantage due to the skew in skills and traits (understood through their stats)."
   ]
  },
  {
   "cell_type": "markdown",
   "id": "b591e143",
   "metadata": {},
   "source": [
    "### All Features:\n",
    "1. player_name — Name of the player\n",
    "2. team_abbreviation — Abbreviated name of the team the player played for (at the end of the season)\n",
    "3. age — Age of the player\n",
    "4. player_height — Height of the player (in centimeters)\n",
    "5. player_weight — Weight of the player (in kilograms)\n",
    "6. college — Name of the college the player attended\n",
    "7. country — Name of the country the player was born in (not necessarily the nationality)\n",
    "8. draft_year — The year the player was drafted\n",
    "9. draft_round — The draft round the player was picked\n",
    "10. draft_number — The number at which the player was picked in his draft round\n",
    "11. gp — Games played throughout the season\n",
    "12. pts — Average number of points scored\n",
    "13. reb — Average number of rebounds grabbed\n",
    "14. ast — Average number of assists distributed\n",
    "15. net_rating — Team's point differential per 100 possessions while the player is on the court\n",
    "16. oreb_pct — Percentage of available offensive rebounds the player grabbed while he was on the floor\n",
    "17. dreb_pct — Percentage of available defensive rebounds the player grabbed while he was on the floor\n",
    "18. usg_pct — Percentage of team plays used by the player while he was on the floor ((FGA + Possession Ending FTA + TO) / POSS)\n",
    "19. ts_pct — Measure of the player's shooting efficiency that takes into account free throws, 2 and 3 point shots (PTS / (2*(FGA + 0.44 * FTA)))\n",
    "20. ast_pct — Percentage of teammate field goals the player assisted while he was on the floor\n",
    "21. season — NBA season"
   ]
  },
  {
   "cell_type": "code",
   "execution_count": null,
   "id": "f1239c25",
   "metadata": {},
   "outputs": [],
   "source": [
    "# Import Necesssary Libraries\n",
    "import os\n",
    "import pandas as pd\n",
    "import matplotlib.pyplot as plt\n",
    "from sklearn.ensemble import RandomForestRegressor\n",
    "from sklearn.preprocessing import OneHotEncoder\n",
    "from sklearn.compose import ColumnTransformer\n",
    "from sklearn.pipeline import Pipeline\n",
    "from sklearn.preprocessing import OrdinalEncoder\n",
    "\n",
    "# Import Local Libraries\n",
    "from featureExtractor import preprocessData"
   ]
  },
  {
   "cell_type": "code",
   "execution_count": null,
   "id": "c94c026c",
   "metadata": {},
   "outputs": [],
   "source": [
    "# Import & Preprocess Data\n",
    "preprocessData(start_year=2000, train_size=200, test_size=50, num_players=100)\n",
    "\n",
    "# Given a 5-year window,\n",
    "# and a set training size and test size,\n",
    "# the function takes 100 random players from the dataset \"all_seasons.csv\"\n",
    "# and creates a training and testing dataset based on their above average stats\n",
    "# and pools them into teams of five."
   ]
  },
  {
   "cell_type": "code",
   "execution_count": null,
   "id": "5bedbb48",
   "metadata": {},
   "outputs": [],
   "source": [
    "# Build Artificial Neural Network Model"
   ]
  }
 ],
 "metadata": {
  "language_info": {
   "name": "python"
  }
 },
 "nbformat": 4,
 "nbformat_minor": 5
}
